{
 "cells": [
  {
   "cell_type": "markdown",
   "metadata": {},
   "source": [
    "# global_terrorism\n",
    "\n",
    "### Data exploration on Global Terrorism Database- mini project\n"
   ]
  },
  {
   "cell_type": "markdown",
   "metadata": {},
   "source": [
    "### Project Overview\n",
    "\n",
    "In this mini project there is represented data analysis of Global Terrorism Databased downloaded from from https://www.kaggle.com/START-UMD/gtd.\n",
    "Here we can see which coutries are most affected by the terrorism or how what was the tendency of it past years (1970-2017)"
   ]
  },
  {
   "cell_type": "markdown",
   "metadata": {},
   "source": [
    "### Project instructions:\n",
    "\n",
    "0. (Optional step) Fork the repository to your githab account.\n",
    "\n",
    "1. Clone the repository to your local PC. Go to your home directory, and clone the repository. In case you made a copy (fork) provide your own URL\n",
    "\n",
    "##### cd\n",
    "##### git clone https://github.com/tstokrk/bme-data-exp.git\n",
    "###### cd bme-data-exp\n",
    "\n",
    "\n",
    "2. Download data set, Global Terrorism Database, from https://www.kaggle.com/START-UMD/gtd and put it into directory.\n",
    "3. Open the Jupyter Notebook and follow the instructions\n",
    "\n",
    "###### jupyter notebook dataexp.ipynb\n",
    "\n",
    "4. Click 'Reset & Run All' command from the menu."
   ]
  },
  {
   "cell_type": "code",
   "execution_count": null,
   "metadata": {},
   "outputs": [],
   "source": []
  }
 ],
 "metadata": {
  "kernelspec": {
   "display_name": "Python 3",
   "language": "python",
   "name": "python3"
  },
  "language_info": {
   "codemirror_mode": {
    "name": "ipython",
    "version": 3
   },
   "file_extension": ".py",
   "mimetype": "text/x-python",
   "name": "python",
   "nbconvert_exporter": "python",
   "pygments_lexer": "ipython3",
   "version": "3.7.1"
  }
 },
 "nbformat": 4,
 "nbformat_minor": 2
}
